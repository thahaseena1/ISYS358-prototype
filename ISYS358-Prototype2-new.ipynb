{
 "cells": [
  {
   "cell_type": "code",
   "execution_count": 152,
   "metadata": {},
   "outputs": [],
   "source": [
    "!pip install plotly\n",
    "!pip install cufflinks"
   ]
  },
  {
   "cell_type": "code",
   "execution_count": null,
   "metadata": {},
   "outputs": [],
   "source": [
    "!pip install matplotlib"
   ]
  },
  {
   "cell_type": "markdown",
   "metadata": {},
   "source": [
    "IMPORTS"
   ]
  },
  {
   "cell_type": "code",
   "execution_count": 353,
   "metadata": {},
   "outputs": [],
   "source": [
    "import pandas as pd\n",
    "import numpy as np\n",
    "import cufflinks as cf\n",
    "%matplotlib inline"
   ]
  },
  {
   "cell_type": "code",
   "execution_count": 354,
   "metadata": {},
   "outputs": [],
   "source": [
    "from plotly import __version__"
   ]
  },
  {
   "cell_type": "code",
   "execution_count": 355,
   "metadata": {},
   "outputs": [],
   "source": [
    "from plotly.offline import download_plotlyjs, init_notebook_mode,plot,iplot"
   ]
  },
  {
   "cell_type": "code",
   "execution_count": 356,
   "metadata": {},
   "outputs": [
    {
     "data": {
      "text/html": [
       "        <script type=\"text/javascript\">\n",
       "        window.PlotlyConfig = {MathJaxConfig: 'local'};\n",
       "        if (window.MathJax) {MathJax.Hub.Config({SVG: {font: \"STIX-Web\"}});}\n",
       "        if (typeof require !== 'undefined') {\n",
       "        require.undef(\"plotly\");\n",
       "        requirejs.config({\n",
       "            paths: {\n",
       "                'plotly': ['https://cdn.plot.ly/plotly-latest.min']\n",
       "            }\n",
       "        });\n",
       "        require(['plotly'], function(Plotly) {\n",
       "            window._Plotly = Plotly;\n",
       "        });\n",
       "        }\n",
       "        </script>\n",
       "        "
      ]
     },
     "metadata": {},
     "output_type": "display_data"
    }
   ],
   "source": [
    "init_notebook_mode(connected=True)"
   ]
  },
  {
   "cell_type": "code",
   "execution_count": 357,
   "metadata": {},
   "outputs": [
    {
     "data": {
      "text/html": [
       "        <script type=\"text/javascript\">\n",
       "        window.PlotlyConfig = {MathJaxConfig: 'local'};\n",
       "        if (window.MathJax) {MathJax.Hub.Config({SVG: {font: \"STIX-Web\"}});}\n",
       "        if (typeof require !== 'undefined') {\n",
       "        require.undef(\"plotly\");\n",
       "        requirejs.config({\n",
       "            paths: {\n",
       "                'plotly': ['https://cdn.plot.ly/plotly-latest.min']\n",
       "            }\n",
       "        });\n",
       "        require(['plotly'], function(Plotly) {\n",
       "            window._Plotly = Plotly;\n",
       "        });\n",
       "        }\n",
       "        </script>\n",
       "        "
      ]
     },
     "metadata": {},
     "output_type": "display_data"
    }
   ],
   "source": [
    "cf.go_offline()"
   ]
  },
  {
   "cell_type": "markdown",
   "metadata": {},
   "source": [
    "CREATING DATA VALUES"
   ]
  },
  {
   "cell_type": "code",
   "execution_count": 358,
   "metadata": {},
   "outputs": [],
   "source": [
    "#create two coloumns for test values\n",
    "# 1. Doesn't have disease, 2. Have disease\n",
    "df = pd.DataFrame()\n",
    "df['A']=[1,3,5,8,8,9,9,9,14,15]\n",
    "df['B']=[10,14,15,17,17,18,18,19,20,21]\n",
    "df.columns= [\"Doesn't have disease\", 'Have Disease'] \n"
   ]
  },
  {
   "cell_type": "code",
   "execution_count": 359,
   "metadata": {},
   "outputs": [],
   "source": [
    "#True predictions\n",
    "true = [0,0,0,0,0,0,0,0,0,0,1,1,1,1,1,1,1,1,1,1]"
   ]
  },
  {
   "cell_type": "markdown",
   "metadata": {},
   "source": [
    "THE GRAPH"
   ]
  },
  {
   "cell_type": "code",
   "execution_count": 360,
   "metadata": {},
   "outputs": [
    {
     "data": {
      "application/vnd.jupyter.widget-view+json": {
       "model_id": "2432e6a7bbc742688d6773c761b42c7b",
       "version_major": 2,
       "version_minor": 0
      },
      "text/plain": [
       "interactive(children=(Dropdown(description='GraphColour', options=('brbg', 'prgn', 'piyg', 'puor', 'rdbu', 'rd…"
      ]
     },
     "metadata": {},
     "output_type": "display_data"
    }
   ],
   "source": [
    "from ipywidgets import interact, interact_manual\n",
    "\n",
    "\n",
    "@interact\n",
    "def scatter_plot(GraphColour=list(cf.colors._scales_names.keys()),Cuttoff_Val= np.arange(1,22)):\n",
    "    \n",
    "    #True negative, False negative & predictions (0 or 1) at given cutoff value \n",
    "    tn=0\n",
    "    fn=0\n",
    "    pred=[]\n",
    "    for i in df[\"Doesn\\'t have disease\"]:\n",
    "        if i <= Cuttoff_Val:\n",
    "            tn=tn+1\n",
    "            pred.append(0)\n",
    "        else:\n",
    "            fn=fn+1\n",
    "            pred.append(1)\n",
    "    \n",
    "    #True positive, False Positive & predictions (0 or 1) at given cutoff value\n",
    "    tp=0\n",
    "    fp=0\n",
    "    for i in df['Have Disease']:\n",
    "        if i > Cuttoff_Val:\n",
    "            tp=tp+1\n",
    "            pred.append(1)\n",
    "        else:\n",
    "            fp=fp+1\n",
    "            pred.append(0)\n",
    "    \n",
    "    #Account for division by zero and then calculate Sensitivity & Specificity\n",
    "    if tp <= 0:\n",
    "        sensitivity = 0\n",
    "    else:\n",
    "        sensitivity = tp/(tp+fn)\n",
    "    \n",
    "    if tn <= 0:\n",
    "        speciificity = 0\n",
    "    else:\n",
    "        specificity = tn/(fp+tn)\n",
    "    \n",
    "    #Disease prevalence\n",
    "    DP = (tp+fn)/(tp+tn+fp+fn)\n",
    "    #Accuracy\n",
    "    Acc = (tp+tn)/(tp+tn+fp+fn)\n",
    "    #positive predicted value\n",
    "    PPV = tp/(tp+fp)\n",
    "    #Negative predicted value\n",
    "    NPV = tn/(fn+tn)\n",
    "    \n",
    "  \n",
    "    #Plot - Distribution\n",
    "    df.iplot(kind='hist',xTitle='Test Score', yTitle='Frequency',histfunc='count', barmode='overlay', opacity=0.75, x=df[\"Doesn't have disease\"],\n",
    "             y=df['Have Disease'], colorscale=GraphColour,vline= Cuttoff_Val,annotations=[\n",
    "        dict(\n",
    "            x=Cuttoff_Val+3.4,\n",
    "            y=7,\n",
    "            xref='x',\n",
    "            yref='y',\n",
    "            text= \n",
    "            'Sensitivity: '+ str(round(sensitivity*100,2))+'% <br>' +\n",
    "            'Specificity: '+ str(round(specificity*100,2))+'% <br>' +\n",
    "            'Desease Prevalence: '+ str(round(DP*100,2))+'% <br>' +\n",
    "            'PPV: '+ str(round(PPV*100,2))+'% , NPV: '+str(round(NPV*100,2))+'% <br>'+\n",
    "            'Accuracy: '+ str(round(Acc*100,2))+'%',\n",
    "            textangle= 360,\n",
    "            showarrow=False,\n",
    "            arrowhead=7,\n",
    "            ax=0,\n",
    "            ay=-40,\n",
    "            \n",
    "\n",
    "        )])\n",
    "    \n",
    "    #ROC curve calculations, plot settings and plotting\n",
    "    import matplotlib.pyplot as plt, figure\n",
    "    from sklearn.metrics import roc_curve, auc\n",
    " \n",
    "    fig_size = plt.rcParams[\"figure.figsize\"]  \n",
    "    fig_size[0] = 15 \n",
    "    fig_size[1] = 10 \n",
    "    plt.rcParams[\"figure.figsize\"] = fig_size  \n",
    "    from sklearn.metrics import roc_curve, auc\n",
    "    fpr, tpr, thresholds = roc_curve(pred,true)\n",
    "    roc_auc = auc(fpr, tpr)\n",
    "\n",
    "    plt.figure()\n",
    "    plt.plot(fpr, tpr, color='darkorange', lw=1, label='ROC curve (area = %0.2f)' % roc_auc)\n",
    "    plt.plot([0, 1], [0, 1], color='navy', lw=1, linestyle='--')\n",
    "    plt.xlim([0.0, 1.0])\n",
    "    plt.ylim([0.0, 1.05])\n",
    "    plt.xlabel('False Positive Rate')\n",
    "    plt.ylabel('True Positive Rate')\n",
    "    plt.title('Receiver Operating Characteristic (ROC) Curve')\n",
    "    plt.legend(loc=\"lower right\")\n",
    "    plt.show()   \n",
    "    \n",
    "#polar and ggplot works the best (nice colours)"
   ]
  },
  {
   "cell_type": "markdown",
   "metadata": {},
   "source": [
    "Glossary:\n",
    "    \n",
    "Sensitivity: probability that a test result will be positive when the disease is present (true positive rate)\n",
    "\n",
    "Specificity: probability that a test result will be negative when the disease is not present (true negative rate)\n",
    "\n",
    "Positive predictive value: probability that the disease is present when the test is positive. \n",
    "= TP / (TP+FP)\n",
    "\n",
    "Negative predictive value: probability that the disease is not present when the test is negative. \n",
    "= TN  / (FN+TN)\n",
    "\n",
    "Accuracy: overall probability that a patient will be correctly classified. \n",
    "= (TP+TN) / (TP+TN+FP+FN)"
   ]
  },
  {
   "cell_type": "code",
   "execution_count": null,
   "metadata": {},
   "outputs": [],
   "source": []
  }
 ],
 "metadata": {
  "kernelspec": {
   "display_name": "Python 3",
   "language": "python",
   "name": "python3"
  },
  "language_info": {
   "codemirror_mode": {
    "name": "ipython",
    "version": 3
   },
   "file_extension": ".py",
   "mimetype": "text/x-python",
   "name": "python",
   "nbconvert_exporter": "python",
   "pygments_lexer": "ipython3",
   "version": "3.7.1"
  },
  "widgets": {
   "application/vnd.jupyter.widget-state+json": {
    "state": {
     "1d508c3ea6b64a6c8b64e877914354fe": {
      "model_module": "@jupyter-widgets/controls",
      "model_module_version": "1.4.0",
      "model_name": "DropdownModel",
      "state": {
       "_options_labels": [
        "brbg",
        "prgn",
        "piyg",
        "puor",
        "rdbu",
        "rdgy",
        "rdylbu",
        "rdylgn",
        "spectral",
        "paired",
        "set3",
        "dflt",
        "original",
        "plotly",
        "accent",
        "dark2",
        "pastel1",
        "pastel2",
        "set1",
        "set2",
        "blues",
        "bugn",
        "bupu",
        "gnbu",
        "greens",
        "greys",
        "orrd",
        "oranges",
        "pubu",
        "pubugn",
        "purd",
        "purples",
        "rdpu",
        "reds",
        "ylgn",
        "ylgnbu",
        "ylorbr",
        "ylorrd",
        "ggplot",
        "polar"
       ],
       "description": "GraphColour",
       "index": 0,
       "layout": "IPY_MODEL_f15366b14c294d9fa3656879097ff791",
       "style": "IPY_MODEL_8d2765bad03741e5bb1776503d7e4265"
      }
     },
     "304a868f61a4426284277d8a4172f51e": {
      "model_module": "@jupyter-widgets/base",
      "model_module_version": "1.1.0",
      "model_name": "LayoutModel",
      "state": {}
     },
     "321939fa31444c9eae6fd7a10136ac10": {
      "model_module": "@jupyter-widgets/controls",
      "model_module_version": "1.4.0",
      "model_name": "DescriptionStyleModel",
      "state": {
       "description_width": ""
      }
     },
     "429124edebc7440e9cabab36c00cf9f1": {
      "model_module": "@jupyter-widgets/base",
      "model_module_version": "1.1.0",
      "model_name": "LayoutModel",
      "state": {}
     },
     "47ab81a3df304aa886ac77d10cb55b96": {
      "model_module": "@jupyter-widgets/controls",
      "model_module_version": "1.4.0",
      "model_name": "DescriptionStyleModel",
      "state": {
       "description_width": ""
      }
     },
     "4b90dad847ab48339ea36e450f717e1c": {
      "model_module": "@jupyter-widgets/controls",
      "model_module_version": "1.4.0",
      "model_name": "DropdownModel",
      "state": {
       "_options_labels": [
        "1",
        "3",
        "5",
        "8",
        "9",
        "10",
        "14",
        "15",
        "17",
        "18",
        "19",
        "20",
        "21"
       ],
       "description": "Cutoff Val:",
       "index": 0,
       "layout": "IPY_MODEL_9de6f701cff84bd7886308d98062592f",
       "style": "IPY_MODEL_47ab81a3df304aa886ac77d10cb55b96"
      }
     },
     "735b67bb891a42d4be0e51aa248057a5": {
      "model_module": "@jupyter-widgets/controls",
      "model_module_version": "1.4.0",
      "model_name": "VBoxModel",
      "state": {
       "_dom_classes": [
        "widget-interact"
       ],
       "children": [
        "IPY_MODEL_1d508c3ea6b64a6c8b64e877914354fe",
        "IPY_MODEL_94f1c4db79094a15b2344719e554df70",
        "IPY_MODEL_8ca43e837e5240c08b5873867914580d"
       ],
       "layout": "IPY_MODEL_304a868f61a4426284277d8a4172f51e"
      }
     },
     "807bb5de345d4a4b9d88a6dbb71b7b31": {
      "model_module": "@jupyter-widgets/base",
      "model_module_version": "1.1.0",
      "model_name": "LayoutModel",
      "state": {}
     },
     "8ca43e837e5240c08b5873867914580d": {
      "model_module": "@jupyter-widgets/output",
      "model_module_version": "1.0.0",
      "model_name": "OutputModel",
      "state": {
       "layout": "IPY_MODEL_807bb5de345d4a4b9d88a6dbb71b7b31",
       "outputs": [
        {
         "data": {
          "application/vnd.plotly.v1+json": {
           "config": {
            "linkText": "Export to plot.ly",
            "plotlyServerURL": "https://plot.ly",
            "responsive": true,
            "showLink": true
           },
           "data": [
            {
             "histfunc": "count",
             "histnorm": "",
             "marker": {
              "color": "rgba(216, 179, 101, 1.0)",
              "line": {
               "color": "#4D5663",
               "width": 1.3
              }
             },
             "name": "Doesn't have disease",
             "opacity": 0.75,
             "orientation": "v",
             "type": "histogram",
             "x": [
              1,
              3,
              5,
              8,
              8,
              9,
              9,
              9,
              14,
              15
             ]
            },
            {
             "histfunc": "count",
             "histnorm": "",
             "marker": {
              "color": "rgba(245, 245, 245, 1.0)",
              "line": {
               "color": "#4D5663",
               "width": 1.3
              }
             },
             "name": "Have Disease",
             "opacity": 0.75,
             "orientation": "v",
             "type": "histogram",
             "x": [
              10,
              14,
              15,
              17,
              17,
              18,
              18,
              19,
              20,
              21
             ]
            }
           ],
           "layout": {
            "annotations": [
             {
              "arrowcolor": "#9499A3",
              "arrowhead": 7,
              "ax": 0,
              "ay": -40,
              "font": {
               "color": "#4D5663",
               "size": 12
              },
              "showarrow": false,
              "text": "Sensitivity: 0Specificity: 1",
              "textangle": 360,
              "x": 1,
              "xref": "x",
              "y": 5,
              "yref": "y"
             }
            ],
            "barmode": "overlay",
            "legend": {
             "bgcolor": "#F5F6F9",
             "font": {
              "color": "#4D5663"
             }
            },
            "paper_bgcolor": "#F5F6F9",
            "plot_bgcolor": "#F5F6F9",
            "shapes": [
             {
              "line": {
               "color": "#db4052",
               "dash": "solid",
               "width": 1
              },
              "type": "line",
              "x0": 1,
              "x1": 1,
              "xref": "x",
              "y0": 0,
              "y1": 1,
              "yref": "paper"
             }
            ],
            "titlefont": {
             "color": "#4D5663"
            },
            "xaxis": {
             "gridcolor": "#E1E5ED",
             "showgrid": true,
             "tickfont": {
              "color": "#4D5663"
             },
             "title": "Test Value",
             "titlefont": {
              "color": "#4D5663"
             },
             "zerolinecolor": "#E1E5ED"
            },
            "yaxis": {
             "gridcolor": "#E1E5ED",
             "showgrid": true,
             "tickfont": {
              "color": "#4D5663"
             },
             "title": "Frequency",
             "titlefont": {
              "color": "#4D5663"
             },
             "zerolinecolor": "#E1E5ED"
            }
           }
          },
          "text/html": "<div>\n        \n        \n            <div id=\"e5999e18-dac6-4d51-8304-c5f61f679637\" class=\"plotly-graph-div\" style=\"height:525px; width:100%;\"></div>\n            <script type=\"text/javascript\">\n                require([\"plotly\"], function(Plotly) {\n                    window.PLOTLYENV=window.PLOTLYENV || {};\n                    window.PLOTLYENV.BASE_URL='https://plot.ly';\n                    \n                if (document.getElementById(\"e5999e18-dac6-4d51-8304-c5f61f679637\")) {\n                    Plotly.newPlot(\n                        'e5999e18-dac6-4d51-8304-c5f61f679637',\n                        [{\"histfunc\": \"count\", \"histnorm\": \"\", \"marker\": {\"color\": \"rgba(216, 179, 101, 1.0)\", \"line\": {\"color\": \"#4D5663\", \"width\": 1.3}}, \"name\": \"Doesn't have disease\", \"opacity\": 0.75, \"orientation\": \"v\", \"type\": \"histogram\", \"uid\": \"f5bd7c0c-947d-4e1d-ac43-5c6abd9a4bd4\", \"x\": [1, 3, 5, 8, 8, 9, 9, 9, 14, 15]}, {\"histfunc\": \"count\", \"histnorm\": \"\", \"marker\": {\"color\": \"rgba(245, 245, 245, 1.0)\", \"line\": {\"color\": \"#4D5663\", \"width\": 1.3}}, \"name\": \"Have Disease\", \"opacity\": 0.75, \"orientation\": \"v\", \"type\": \"histogram\", \"uid\": \"e4148cb3-e7b3-4e73-9c7a-c6469fcddc71\", \"x\": [10, 14, 15, 17, 17, 18, 18, 19, 20, 21]}],\n                        {\"annotations\": [{\"arrowcolor\": \"#9499A3\", \"arrowhead\": 7, \"ax\": 0, \"ay\": -40, \"font\": {\"color\": \"#4D5663\", \"size\": 12}, \"showarrow\": false, \"text\": \"Sensitivity: 0Specificity: 1\", \"textangle\": 0, \"x\": 1, \"xref\": \"x\", \"y\": 5, \"yref\": \"y\"}], \"barmode\": \"overlay\", \"legend\": {\"bgcolor\": \"#F5F6F9\", \"font\": {\"color\": \"#4D5663\"}}, \"paper_bgcolor\": \"#F5F6F9\", \"plot_bgcolor\": \"#F5F6F9\", \"shapes\": [{\"line\": {\"color\": \"#db4052\", \"dash\": \"solid\", \"width\": 1}, \"type\": \"line\", \"x0\": 1, \"x1\": 1, \"xref\": \"x\", \"y0\": 0, \"y1\": 1, \"yref\": \"paper\"}], \"title\": {\"font\": {\"color\": \"#4D5663\"}}, \"xaxis\": {\"gridcolor\": \"#E1E5ED\", \"showgrid\": true, \"tickfont\": {\"color\": \"#4D5663\"}, \"title\": {\"font\": {\"color\": \"#4D5663\"}, \"text\": \"Test Value\"}, \"zerolinecolor\": \"#E1E5ED\"}, \"yaxis\": {\"gridcolor\": \"#E1E5ED\", \"showgrid\": true, \"tickfont\": {\"color\": \"#4D5663\"}, \"title\": {\"font\": {\"color\": \"#4D5663\"}, \"text\": \"Frequency\"}, \"zerolinecolor\": \"#E1E5ED\"}},\n                        {\"showLink\": true, \"linkText\": \"Export to plot.ly\", \"plotlyServerURL\": \"https://plot.ly\", \"responsive\": true}\n                    ).then(function(){\n                            \nvar gd = document.getElementById('e5999e18-dac6-4d51-8304-c5f61f679637');\nvar x = new MutationObserver(function (mutations, observer) {{\n        var display = window.getComputedStyle(gd).display;\n        if (!display || display === 'none') {{\n            console.log([gd, 'removed!']);\n            Plotly.purge(gd);\n            observer.disconnect();\n        }}\n}});\n\n// Listen for the removal of the full notebook cells\nvar notebookContainer = gd.closest('#notebook-container');\nif (notebookContainer) {{\n    x.observe(notebookContainer, {childList: true});\n}}\n\n// Listen for the clearing of the current output cell\nvar outputEl = gd.closest('.output');\nif (outputEl) {{\n    x.observe(outputEl, {childList: true});\n}}\n\n                        })\n                };\n                });\n            </script>\n        </div>"
         },
         "metadata": {},
         "output_type": "display_data"
        }
       ]
      }
     },
     "8d2765bad03741e5bb1776503d7e4265": {
      "model_module": "@jupyter-widgets/controls",
      "model_module_version": "1.4.0",
      "model_name": "DescriptionStyleModel",
      "state": {
       "description_width": ""
      }
     },
     "94f1c4db79094a15b2344719e554df70": {
      "model_module": "@jupyter-widgets/controls",
      "model_module_version": "1.4.0",
      "model_name": "DropdownModel",
      "state": {
       "_options_labels": [
        "1",
        "2",
        "3",
        "4",
        "5",
        "6",
        "7",
        "8",
        "9",
        "10",
        "11",
        "12",
        "13",
        "14",
        "15",
        "16",
        "17",
        "18",
        "19",
        "20",
        "21"
       ],
       "description": "Cuttoff_Val",
       "index": 0,
       "layout": "IPY_MODEL_429124edebc7440e9cabab36c00cf9f1",
       "style": "IPY_MODEL_321939fa31444c9eae6fd7a10136ac10"
      }
     },
     "9de6f701cff84bd7886308d98062592f": {
      "model_module": "@jupyter-widgets/base",
      "model_module_version": "1.1.0",
      "model_name": "LayoutModel",
      "state": {}
     },
     "f15366b14c294d9fa3656879097ff791": {
      "model_module": "@jupyter-widgets/base",
      "model_module_version": "1.1.0",
      "model_name": "LayoutModel",
      "state": {}
     }
    },
    "version_major": 2,
    "version_minor": 0
   }
  }
 },
 "nbformat": 4,
 "nbformat_minor": 2
}
